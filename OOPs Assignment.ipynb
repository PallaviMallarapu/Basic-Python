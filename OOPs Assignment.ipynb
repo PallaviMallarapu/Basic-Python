{
 "cells": [
  {
   "cell_type": "markdown",
   "id": "5c8ec12d",
   "metadata": {},
   "source": [
    "Q1. Write a Python program to demonstrate multiple inheritance.\n",
    "1. Employee class has 3 data members EmployeeID, Gender (String), Salary and\n",
    "PerformanceRating(Out of 5) of type int. It has a get() function to get these details from\n",
    "the user.\n",
    "2. JoiningDetail class has a data member DateOfJoining of type Date and a function\n",
    "getDoJ to get the Date of joining of employees.\n",
    "3. Information Class uses the marks from Employee class and the DateOfJoining date\n",
    "from the JoiningDetail class to calculate the top 3 Employees based on their Ratings\n",
    "and then Display, using readData, all the details on these employees in Ascending\n",
    "order of their Date Of Joining.\n"
   ]
  },
  {
   "cell_type": "code",
   "execution_count": 31,
   "id": "72cefb07",
   "metadata": {},
   "outputs": [
    {
     "name": "stdout",
     "output_type": "stream",
     "text": [
      "Enter Employee ID: 401\n",
      "Enter Gender: F\n",
      "Enter Salary: 500000\n",
      "Enter Performance Rating (out of 5): 4\n",
      "Enter Date of Joining (YYYY-MM-DD): 2019-04-08\n",
      "Enter Employee ID: 402\n",
      "Enter Gender: M\n",
      "Enter Salary: 600000\n",
      "Enter Performance Rating (out of 5): 5\n",
      "Enter Date of Joining (YYYY-MM-DD): 2020-11-12\n",
      "Do you want to enter details of another employee? (Y/N): N\n",
      "Top 3 Employees based on their Ratings and Date of Joining:\n",
      "Employee ID: 402\n",
      "Gender: M\n",
      "Salary: 600000\n",
      "Performance Rating: 5\n",
      "Date of Joining: 2020-11-12\n",
      "\n"
     ]
    }
   ],
   "source": [
    "from datetime import date\n",
    "\n",
    "class Employee:\n",
    "    def __init__(self):\n",
    "        self.EmployeeID = int(input(\"Enter Employee ID: \"))\n",
    "        self.Gender = input(\"Enter Gender: \")\n",
    "        self.Salary = int(input(\"Enter Salary: \"))\n",
    "        self.PerformanceRating = int(input(\"Enter Performance Rating (out of 5): \"))\n",
    "\n",
    "class JoiningDetail:\n",
    "    def __init__(self):\n",
    "        self.DateOfJoining = input(\"Enter Date of Joining (YYYY-MM-DD): \")\n",
    "\n",
    "class Information(Employee, JoiningDetail):\n",
    "    def __init__(self):\n",
    "        Employee.__init__(self)\n",
    "        JoiningDetail.__init__(self)\n",
    "\n",
    "    def readData(self):\n",
    "        employees = []\n",
    "        while True:\n",
    "            emp = Information()\n",
    "            employees.append(emp)\n",
    "            choice = input(\"Do you want to enter details of another employee? (Y/N): \")\n",
    "            if choice.lower() == 'n':\n",
    "                break\n",
    "\n",
    "        top_employees = sorted(employees, key=lambda x: x.PerformanceRating, reverse=True)[:3]\n",
    "        top_employees = sorted(top_employees, key=lambda x: x.DateOfJoining)\n",
    "\n",
    "        print(\"Top 3 Employees based on their Ratings and Date of Joining:\")\n",
    "        for emp in top_employees:\n",
    "            print(f\"Employee ID: {emp.EmployeeID}\")\n",
    "            print(f\"Gender: {emp.Gender}\")\n",
    "            print(f\"Salary: {emp.Salary}\")\n",
    "            print(f\"Performance Rating: {emp.PerformanceRating}\")\n",
    "            print(f\"Date of Joining: {emp.DateOfJoining}\")\n",
    "            print()\n",
    "\n",
    "Information().readData()"
   ]
  },
  {
   "cell_type": "markdown",
   "id": "4ca79744",
   "metadata": {},
   "source": [
    "Q.2 Write a Python program to demonstrate Polymorphism.\n",
    "1. Class Vehicle with a parameterized function Fare, that takes input value as fare and\n",
    "returns it to calling Objects.\n",
    "2. Create five separate variables Bus, Car, Train, Truck and Ship that call the Fare\n",
    "function.\n",
    "3. Use a third variable TotalFare to store the sum of fare for each Vehicle Type.\n",
    "4. Print the TotalFare."
   ]
  },
  {
   "cell_type": "code",
   "execution_count": 2,
   "id": "76854703",
   "metadata": {},
   "outputs": [
    {
     "name": "stdout",
     "output_type": "stream",
     "text": [
      "Total Fare: 6500\n"
     ]
    }
   ],
   "source": [
    "class Vehicle:\n",
    "    def Fare(self, fare):\n",
    "        return fare\n",
    "\n",
    "bus = Vehicle()\n",
    "car = Vehicle()\n",
    "train = Vehicle()\n",
    "truck = Vehicle()\n",
    "ship = Vehicle()\n",
    "\n",
    "TotalFare = bus.Fare(1100) + car.Fare(1200) + train.Fare(1300) + truck.Fare(1400) + ship.Fare(1500)\n",
    "\n",
    "print(\"Total Fare:\", TotalFare)"
   ]
  },
  {
   "cell_type": "markdown",
   "id": "f4fac729",
   "metadata": {},
   "source": [
    "Q3. Consider an ongoing test cricket series. Following are the names of the players and their\n",
    "scores in the test1 and 2.\n",
    "Test Match 1 :\n",
    "Dhoni : 56 , Balaji : 94\n",
    "Test Match 2 :\n",
    "Balaji : 80 , Dravid : 105\n",
    "Calculate the highest number of runs scored by an individual cricketer in both of the matches.\n",
    "Create a python function Max_Score (M) that reads a dictionary M that recognizes the player\n",
    "with the highest total score. This function will return ( Top player , Total Score ) . You can\n",
    "consider the Top player as String who is the highest scorer and Top score as Integer .\n",
    "Input : Max_Score({‘test1’:{‘Dhoni’:56, ‘Balaji : 85}, ‘test2’:{‘Dhoni’ 87, ‘Balaji’’:200}})\n",
    "Output : (‘Balaji ‘ , 200)\n"
   ]
  },
  {
   "cell_type": "code",
   "execution_count": 3,
   "id": "075d1fa9",
   "metadata": {},
   "outputs": [],
   "source": [
    "def Max_Score(M):\n",
    "    top_player = \"\"\n",
    "    top_score = 0\n",
    "\n",
    "    for match in M.values():\n",
    "        for player, score in match.items():\n",
    "            if score > top_score:\n",
    "                top_player = player\n",
    "                top_score = score\n",
    "\n",
    "    return (top_player, top_score)"
   ]
  },
  {
   "cell_type": "code",
   "execution_count": 4,
   "id": "4ad1ff10",
   "metadata": {},
   "outputs": [
    {
     "name": "stdout",
     "output_type": "stream",
     "text": [
      "('Balaji', 200)\n"
     ]
    }
   ],
   "source": [
    "M = {\n",
    "    'test1': {'Dhoni': 56, 'Balaji': 85},\n",
    "    'test2': {'Dhoni': 87, 'Balaji': 200}\n",
    "}\n",
    "\n",
    "result = Max_Score(M)\n",
    "print(result)"
   ]
  },
  {
   "cell_type": "markdown",
   "id": "9f257ac9",
   "metadata": {},
   "source": [
    "Q4. Create a simple Card game in which there are 8 cards which are randomly chosen from a\n",
    "deck. The first card is shown face up. The game asks the player to predict whether the next card\n",
    "in the selection will have a higher or lower value than the currently showing card.\n",
    "For example, say the card that’s shown is a 3. The player chooses “higher,” and the next card is\n",
    "shown. If that card has a higher value, the player is correct. In this example, if the player had\n",
    "chosen “lower,” they would have been incorrect. If the player guesses correctly, they get 20\n",
    "points. If they choose incorrectly, they lose 15 points. If the next card to be turned over has the\n",
    "same value as the previous card, the player is incorrect."
   ]
  },
  {
   "cell_type": "code",
   "execution_count": 5,
   "id": "e51ba688",
   "metadata": {},
   "outputs": [
    {
     "name": "stdout",
     "output_type": "stream",
     "text": [
      "The current card is 8\n",
      "Do you think the next card will be higher or lower? (h/l): 6\n",
      "Your prediction was incorrect. You lose points.\n",
      "The current card is 9\n",
      "Do you think the next card will be higher or lower? (h/l): 5\n",
      "Your prediction was incorrect. You lose points.\n",
      "The current card is 3\n",
      "Do you think the next card will be higher or lower? (h/l): 4\n",
      "Your prediction was incorrect. You lose points.\n",
      "The current card is 2\n",
      "Do you think the next card will be higher or lower? (h/l): 6\n",
      "Your prediction was incorrect. You lose points.\n",
      "The current card is 6\n",
      "Do you think the next card will be higher or lower? (h/l): \n",
      "Your prediction was incorrect. You lose points.\n",
      "The current card is 4\n",
      "Do you think the next card will be higher or lower? (h/l): 8\n",
      "Your prediction was incorrect. You lose points.\n",
      "The current card is 5\n",
      "Do you think the next card will be higher or lower? (h/l): 2\n",
      "Your prediction was incorrect. You lose points.\n",
      "The current card is 7\n",
      "Game over. Your final score is -35.\n"
     ]
    }
   ],
   "source": [
    "import random\n",
    "\n",
    "deck = [2, 3, 4, 5, 6, 7, 8, 9]\n",
    "random.shuffle(deck)\n",
    "\n",
    "score = 0\n",
    "current_card = deck.pop()\n",
    "print(f\"The current card is {current_card}\")\n",
    "\n",
    "while deck:\n",
    "    prediction = input(\"Do you think the next card will be higher or lower? (h/l): \")\n",
    "    next_card = deck.pop()\n",
    "    if next_card == current_card:\n",
    "        print(\"The next card has the same value as the current card. You lose points.\")\n",
    "        score -= 5\n",
    "    elif (next_card > current_card and prediction == 'h') or (next_card < current_card and prediction == 'l'):\n",
    "        print(\"Your prediction was correct. You gain points.\")\n",
    "        score += 10\n",
    "    else:\n",
    "        print(\"Your prediction was incorrect. You lose points.\")\n",
    "        score -= 5\n",
    "    current_card = next_card\n",
    "    print(f\"The current card is {current_card}\")\n",
    "\n",
    "print(f\"Game over. Your final score is {score}.\")"
   ]
  },
  {
   "cell_type": "markdown",
   "id": "c8ca456a",
   "metadata": {},
   "source": [
    "Q5. Create an empty dictionary called Car_0 . Then fill the dictionary with Keys : color , speed\n",
    ", X_position and Y_position.\n",
    "car_0 = {'x_position': 10, 'y_position': 72, 'speed': 'medium'} .\n",
    "a) If the speed is slow the coordinates of the X_pos get incremented by 2.\n",
    "b) If the speed is Medium the coordinates of the X_pos gets incremented by 9\n",
    "c) Now if the speed is Fast the coordinates of the X_pos gets incremented by 22.\n",
    "Print the modified dictionary."
   ]
  },
  {
   "cell_type": "code",
   "execution_count": 6,
   "id": "12cf1a67",
   "metadata": {},
   "outputs": [
    {
     "name": "stdout",
     "output_type": "stream",
     "text": [
      "Original dictionary:\n",
      "{'color': '', 'speed': '', 'X_position': 0, 'Y_position': 0}\n"
     ]
    }
   ],
   "source": [
    "Car_0 = {}\n",
    "Car_0['color'] = ''\n",
    "Car_0['speed'] = ''\n",
    "Car_0['X_position'] = 0\n",
    "Car_0['Y_position'] = 0\n",
    "print(\"Original dictionary:\")\n",
    "print(Car_0)"
   ]
  },
  {
   "cell_type": "code",
   "execution_count": 7,
   "id": "3585e806",
   "metadata": {},
   "outputs": [
    {
     "name": "stdout",
     "output_type": "stream",
     "text": [
      "Modified dictionary:\n",
      "{'X_position': 19, 'Y_position': 72, 'speed': 'medium'}\n"
     ]
    }
   ],
   "source": [
    "Car_0 = {'X_position': 10, 'Y_position': 72, 'speed': 'medium'}\n",
    "\n",
    "if Car_0['speed'] == 'slow':\n",
    "    Car_0['X_position'] += 2\n",
    "elif Car_0['speed'] == 'medium':\n",
    "    Car_0['X_position'] += 9\n",
    "elif Car_0['speed'] == 'fast':\n",
    "    Car_0['X_position'] += 22\n",
    "\n",
    "print(\"Modified dictionary:\")\n",
    "print(Car_0)"
   ]
  },
  {
   "cell_type": "markdown",
   "id": "9ba96b09",
   "metadata": {},
   "source": [
    "Q6. Show a basic implementation of abstraction in python using the abstract classes.\n",
    "1. Create an abstract class in python.\n",
    "2. Implement abstraction with the other classes and base class as abstract class."
   ]
  },
  {
   "cell_type": "code",
   "execution_count": 8,
   "id": "cdfdc273",
   "metadata": {},
   "outputs": [],
   "source": [
    "from abc import ABC, abstractmethod\n",
    "\n",
    "class Vehicle(ABC):\n",
    "    @abstractmethod\n",
    "    def start(self):\n",
    "        pass\n",
    "\n",
    "    @abstractmethod\n",
    "    def stop(self):\n",
    "        pass"
   ]
  },
  {
   "cell_type": "code",
   "execution_count": 10,
   "id": "fb849fd8",
   "metadata": {},
   "outputs": [],
   "source": [
    "class Car(Vehicle):\n",
    "    def start(self):\n",
    "        print(\"Car started.\")\n",
    "\n",
    "    def stop(self):\n",
    "        print(\"Car stopped.\")"
   ]
  },
  {
   "cell_type": "code",
   "execution_count": 11,
   "id": "c1e9ef95",
   "metadata": {},
   "outputs": [
    {
     "name": "stdout",
     "output_type": "stream",
     "text": [
      "Car started.\n",
      "Car stopped.\n"
     ]
    }
   ],
   "source": [
    "car = Car()\n",
    "car.start()\n",
    "car.stop()"
   ]
  },
  {
   "cell_type": "markdown",
   "id": "a9116af0",
   "metadata": {},
   "source": [
    "Q7. Create a program in python to demonstrate Polymorphism.\n",
    "1. Make use of private and protected members using python name mangling techniques.\n"
   ]
  },
  {
   "cell_type": "code",
   "execution_count": 15,
   "id": "45a70db1",
   "metadata": {},
   "outputs": [],
   "source": [
    "class Vehicle:\n",
    "    def __init__(self, fare):\n",
    "        self.fare = fare\n",
    "\n",
    "    def calculate_fare(self):\n",
    "        pass\n",
    "\n",
    "class Car(Vehicle):\n",
    "    def calculate_fare(self):\n",
    "        return self.fare * 6.5\n",
    "\n",
    "class Bus(Vehicle):\n",
    "    def calculate_fare(self):\n",
    "        return self.fare * 7.0"
   ]
  },
  {
   "cell_type": "code",
   "execution_count": 17,
   "id": "83b743a1",
   "metadata": {},
   "outputs": [
    {
     "name": "stdout",
     "output_type": "stream",
     "text": [
      "Car fare: 65.0\n",
      "Bus fare: 70.0\n"
     ]
    }
   ],
   "source": [
    "car = Car(10)\n",
    "bus = Bus(10)\n",
    "\n",
    "print(\"Car fare:\", car.calculate_fare())\n",
    "print(\"Bus fare:\", bus.calculate_fare())"
   ]
  },
  {
   "cell_type": "code",
   "execution_count": 18,
   "id": "5affc562",
   "metadata": {},
   "outputs": [
    {
     "name": "stdout",
     "output_type": "stream",
     "text": [
      "I am a public member\n",
      "I am a protected member\n",
      "I am a private member\n"
     ]
    }
   ],
   "source": [
    "# To demonstrate the use of private and protected members using Python name mangling techniques,\n",
    "class MyClass:\n",
    "    def __init__(self):\n",
    "        self.public_member = \"I am a public member\"\n",
    "        self._protected_member = \"I am a protected member\"\n",
    "        self.__private_member = \"I am a private member\"\n",
    "\n",
    "obj = MyClass()\n",
    "\n",
    "print(obj.public_member)\n",
    "print(obj._protected_member)\n",
    "print(obj._MyClass__private_member)"
   ]
  },
  {
   "cell_type": "markdown",
   "id": "854d6910",
   "metadata": {},
   "source": [
    "Q8. Given a list of 50 natural numbers from 1-50. Create a function that will take every element\n",
    "from the list and return the square of each element. Use the python map and filter methods to\n",
    "implement the function on the given list."
   ]
  },
  {
   "cell_type": "code",
   "execution_count": 19,
   "id": "65be82e2",
   "metadata": {},
   "outputs": [
    {
     "name": "stdout",
     "output_type": "stream",
     "text": [
      "Original list: [1, 2, 3, 4, 5, 6, 7, 8, 9, 10, 11, 12, 13, 14, 15, 16, 17, 18, 19, 20, 21, 22, 23, 24, 25, 26, 27, 28, 29, 30, 31, 32, 33, 34, 35, 36, 37, 38, 39, 40, 41, 42, 43, 44, 45, 46, 47, 48, 49, 50]\n",
      "Squared list: [1, 4, 9, 16, 25, 36, 49, 64, 81, 100, 121, 144, 169, 196, 225, 256, 289, 324, 361, 400, 441, 484, 529, 576, 625, 676, 729, 784, 841, 900, 961, 1024, 1089, 1156, 1225, 1296, 1369, 1444, 1521, 1600, 1681, 1764, 1849, 1936, 2025, 2116, 2209, 2304, 2401, 2500]\n"
     ]
    }
   ],
   "source": [
    "def square_list(numbers):\n",
    "    squares = list(map(lambda x: x**2, numbers))\n",
    "    return squares\n",
    "\n",
    "numbers = list(range(1, 51))\n",
    "squares = square_list(numbers)\n",
    "\n",
    "print(\"Original list:\", numbers)\n",
    "print(\"Squared list:\", squares)"
   ]
  },
  {
   "cell_type": "markdown",
   "id": "981a88dc",
   "metadata": {},
   "source": [
    "Q9. Create a class, Triangle. Its init() method should take self, angle1, angle2, and angle3 as\n",
    "arguments.\n"
   ]
  },
  {
   "cell_type": "code",
   "execution_count": 20,
   "id": "b86cc1ed",
   "metadata": {},
   "outputs": [],
   "source": [
    "class Triangle:\n",
    "    def __init__(self, angle1, angle2, angle3):\n",
    "        self.angle1 = angle1\n",
    "        self.angle2 = angle2\n",
    "        self.angle3 = angle3\n",
    "\n",
    "    def check_angles(self):\n",
    "        if self.angle1 + self.angle2 + self.angle3 == 180:\n",
    "            return True\n",
    "        else:\n",
    "            return False"
   ]
  },
  {
   "cell_type": "code",
   "execution_count": 21,
   "id": "f40f9a07",
   "metadata": {},
   "outputs": [
    {
     "name": "stdout",
     "output_type": "stream",
     "text": [
      "True\n"
     ]
    }
   ],
   "source": [
    "my_triangle = Triangle(90, 30, 60)\n",
    "print(my_triangle.check_angles())"
   ]
  },
  {
   "cell_type": "markdown",
   "id": "2a8b3415",
   "metadata": {},
   "source": [
    "Q10. Create a class variable named number_of_sides and set it equal to 3.\n"
   ]
  },
  {
   "cell_type": "code",
   "execution_count": 25,
   "id": "2a4e1854",
   "metadata": {},
   "outputs": [],
   "source": [
    "class Triangle:\n",
    "    number_of_sides = 3\n",
    "\n",
    "    def __init__(self, angle1, angle2, angle3):\n",
    "        self.angle1 = angle1\n",
    "        self.angle2 = angle2\n",
    "        self.angle3 = angle3"
   ]
  },
  {
   "cell_type": "code",
   "execution_count": 26,
   "id": "fa833386",
   "metadata": {},
   "outputs": [
    {
     "name": "stdout",
     "output_type": "stream",
     "text": [
      "Number of sides: 3\n"
     ]
    }
   ],
   "source": [
    "my_triangle = Triangle(90, 30, 60)\n",
    "print(\"Number of sides:\", Triangle.number_of_sides)"
   ]
  },
  {
   "cell_type": "markdown",
   "id": "a8d17d54",
   "metadata": {},
   "source": [
    "Q11. Create a method named check_angles. The sum of a triangle's three angles should return\n",
    "True if the sum is equal to 180, and False otherwise. The method should print whether the\n",
    "angles belong to a triangle or not.\n",
    "11.1 Write methods to verify if the triangle is an acute triangle or obtuse triangle.\n",
    "11.2 Create an instance of the triangle class and call all the defined methods.\n",
    "11.3 Create three child classes of triangle class - isosceles_triangle, right_triangle and\n",
    "equilateral_triangle.\n",
    "11.4 Define methods which check for their properties."
   ]
  },
  {
   "cell_type": "code",
   "execution_count": 27,
   "id": "6c4251d4",
   "metadata": {},
   "outputs": [],
   "source": [
    "class Triangle:\n",
    "    number_of_sides = 3\n",
    "\n",
    "    def __init__(self, angle1, angle2, angle3):\n",
    "        self.angle1 = angle1\n",
    "        self.angle2 = angle2\n",
    "        self.angle3 = angle3\n",
    "\n",
    "    def check_angles(self):\n",
    "        if self.angle1 + self.angle2 + self.angle3 == 180:\n",
    "            return True\n",
    "        else:\n",
    "            return False\n",
    "\n",
    "    def is_acute(self):\n",
    "        if self.angle1 < 90 and self.angle2 < 90 and self.angle3 < 90:\n",
    "            return True\n",
    "        else:\n",
    "            return False\n",
    "\n",
    "    def is_obtuse(self):\n",
    "        if self.angle1 > 90 or self.angle2 > 90 or self.angle3 > 90:\n",
    "            return True\n",
    "        else:\n",
    "            return False\n",
    "\n",
    "class IsoscelesTriangle(Triangle):\n",
    "    def is_isosceles(self):\n",
    "        if self.angle1 == self.angle2 or self.angle2 == self.angle3 or self.angle3 == self.angle1:\n",
    "            return True\n",
    "        else:\n",
    "            return False\n",
    "\n",
    "class RightTriangle(Triangle):\n",
    "    def is_right(self):\n",
    "        if self.angle1 == 90 or self.angle2 == 90 or self.angle3 == 90:\n",
    "            return True\n",
    "        else:\n",
    "            return False\n",
    "\n",
    "class EquilateralTriangle(Triangle):\n",
    "    def is_equilateral(self):\n",
    "        if self.angle1 == self.angle2 and self.angle2 == self.angle3:\n",
    "            return True\n",
    "        else:\n",
    "            return False"
   ]
  },
  {
   "cell_type": "code",
   "execution_count": 28,
   "id": "264f967e",
   "metadata": {},
   "outputs": [
    {
     "name": "stdout",
     "output_type": "stream",
     "text": [
      "Number of sides: 3\n",
      "Is triangle: True\n",
      "Is acute triangle: False\n",
      "Is obtuse triangle: False\n",
      "Is isosceles triangle: True\n",
      "Is right triangle: True\n",
      "Is equilateral triangle: True\n"
     ]
    }
   ],
   "source": [
    "my_triangle = Triangle(90, 30, 60)\n",
    "print(\"Number of sides:\", Triangle.number_of_sides)\n",
    "print(\"Is triangle:\", my_triangle.check_angles())\n",
    "print(\"Is acute triangle:\", my_triangle.is_acute())\n",
    "print(\"Is obtuse triangle:\", my_triangle.is_obtuse())\n",
    "\n",
    "my_isosceles_triangle = IsoscelesTriangle(60, 60, 90)\n",
    "print(\"Is isosceles triangle:\", my_isosceles_triangle.is_isosceles())\n",
    "\n",
    "my_right_triangle = RightTriangle(30, 60, 90)\n",
    "print(\"Is right triangle:\", my_right_triangle.is_right())\n",
    "\n",
    "my_equilateral_triangle = EquilateralTriangle(60, 60, 60)\n",
    "print(\"Is equilateral triangle:\", my_equilateral_triangle.is_equilateral())"
   ]
  },
  {
   "cell_type": "markdown",
   "id": "da00a3af",
   "metadata": {},
   "source": [
    "Q12. Create a class isosceles_right_triangle which inherits from isosceles_triangle and\n",
    "right_triangle.\n",
    "12.1 Define methods which check for their properties"
   ]
  },
  {
   "cell_type": "code",
   "execution_count": 29,
   "id": "abb3b9b7",
   "metadata": {},
   "outputs": [],
   "source": [
    "class IsoscelesRightTriangle(IsoscelesTriangle, RightTriangle):\n",
    "    def __init__(self, angle1, angle2):\n",
    "        super().__init__(angle1, angle2, 90)\n",
    "\n",
    "    def is_isosceles_right(self):\n",
    "        if self.angle1 == self.angle2 and self.angle3 == 90:\n",
    "            return True\n",
    "        else:\n",
    "            return False"
   ]
  },
  {
   "cell_type": "code",
   "execution_count": 30,
   "id": "aa1949f3",
   "metadata": {},
   "outputs": [
    {
     "name": "stdout",
     "output_type": "stream",
     "text": [
      "Number of sides: 3\n",
      "Is triangle: False\n",
      "Is acute triangle: False\n",
      "Is obtuse triangle: False\n",
      "Is isosceles triangle: True\n",
      "Is right triangle: True\n",
      "Is isosceles right triangle: True\n"
     ]
    }
   ],
   "source": [
    "# Defining methods:\n",
    "my_triangle = IsoscelesRightTriangle(60, 60)\n",
    "print(\"Number of sides:\", Triangle.number_of_sides)\n",
    "print(\"Is triangle:\", my_triangle.check_angles())\n",
    "print(\"Is acute triangle:\", my_triangle.is_acute())\n",
    "print(\"Is obtuse triangle:\", my_triangle.is_obtuse())\n",
    "print(\"Is isosceles triangle:\", my_triangle.is_isosceles())\n",
    "print(\"Is right triangle:\", my_triangle.is_right())\n",
    "print(\"Is isosceles right triangle:\", my_triangle.is_isosceles_right())"
   ]
  },
  {
   "cell_type": "code",
   "execution_count": null,
   "id": "fa0f1112",
   "metadata": {},
   "outputs": [],
   "source": []
  }
 ],
 "metadata": {
  "kernelspec": {
   "display_name": "Python 3 (ipykernel)",
   "language": "python",
   "name": "python3"
  },
  "language_info": {
   "codemirror_mode": {
    "name": "ipython",
    "version": 3
   },
   "file_extension": ".py",
   "mimetype": "text/x-python",
   "name": "python",
   "nbconvert_exporter": "python",
   "pygments_lexer": "ipython3",
   "version": "3.10.9"
  }
 },
 "nbformat": 4,
 "nbformat_minor": 5
}
