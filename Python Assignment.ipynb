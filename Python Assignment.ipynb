{
 "cells": [
  {
   "cell_type": "code",
   "execution_count": 1,
   "id": "f8bb2b96",
   "metadata": {},
   "outputs": [
    {
     "name": "stdout",
     "output_type": "stream",
     "text": [
      "162.8894626777442\n"
     ]
    }
   ],
   "source": [
    "# Create the variables n, r, p and assign them values 10, 5, and 100 respectively. Then evaluate the following expression in the Python console.\n",
    "# 𝐴 = 𝑝 (1 + 𝑟/ 100)n\n",
    "\n",
    "n = 10\n",
    "r = 5\n",
    "p = 100\n",
    "𝐴 = 𝑝*(1 + 𝑟/ 100)**n\n",
    "print(A)"
   ]
  },
  {
   "cell_type": "code",
   "execution_count": 2,
   "id": "6fea02b0",
   "metadata": {},
   "outputs": [
    {
     "name": "stdout",
     "output_type": "stream",
     "text": [
      "There are 10 students in the class, with 20 who play at least one sport.\n"
     ]
    }
   ],
   "source": [
    "# In a given string format operation, how will you print the given string. A = 10, B = 20\n",
    "# Str = \"There are {} students in the class, with {} who play at least one sport.\"\n",
    "\n",
    "A = 10\n",
    "B = 20\n",
    "Str = \"There are {} students in the class, with {} who play at least one sport.\"\n",
    "print(Str.format(A,B))"
   ]
  },
  {
   "cell_type": "code",
   "execution_count": 3,
   "id": "bec61d2a",
   "metadata": {},
   "outputs": [
    {
     "name": "stdout",
     "output_type": "stream",
     "text": [
      "It goes without saying, \"Time is Money\", and none can deny it\n"
     ]
    }
   ],
   "source": [
    "#. In a given sample string, How do you print a double quoted string in between a regular string using the escape character?\n",
    "# Sample output = It goes without saying, “Time is Money”, and none can deny it.\n",
    "\n",
    "Strng = \"It goes without saying, \\\"Time is Money\\\", and none can deny it\"\n",
    "print(Strng)"
   ]
  },
  {
   "cell_type": "code",
   "execution_count": 4,
   "id": "4413ee12",
   "metadata": {},
   "outputs": [
    {
     "data": {
      "text/plain": [
       "3"
      ]
     },
     "execution_count": 4,
     "metadata": {},
     "output_type": "execute_result"
    }
   ],
   "source": [
    "# What will be the output of the following code? x = lambda a,b: a//b\n",
    "# x(10,3)\n",
    "\n",
    "x = lambda a,b: a//b\n",
    "x(10,3)"
   ]
  },
  {
   "cell_type": "code",
   "execution_count": 5,
   "id": "4b049c92",
   "metadata": {},
   "outputs": [
    {
     "name": "stdout",
     "output_type": "stream",
     "text": [
      "Greater\n"
     ]
    }
   ],
   "source": [
    "# What will be the output of the following code? A = 10, B = 12\n",
    "# print(\"Smaller\") if A == B else print(\"Greater\") if A < B else print(\"True\")\n",
    "\n",
    "A = 10\n",
    "B = 12\n",
    "print(\"Smaller\") if A == B else print(\"Greater\") if A < B else print(\"True\")"
   ]
  },
  {
   "cell_type": "code",
   "execution_count": 8,
   "id": "596e03dd",
   "metadata": {},
   "outputs": [],
   "source": [
    "# What will be the output of the following code?\n",
    "# my_list1 = [2,7,3,5,4,6]\n",
    "# Print(my_list1)\n",
    "# arr_1 = numpy.array(my_list1, dtype = int)\n",
    "# Print(arr_1)\n",
    "\n",
    "import os\n",
    "import numpy as np"
   ]
  },
  {
   "cell_type": "code",
   "execution_count": 9,
   "id": "04d13c28",
   "metadata": {},
   "outputs": [
    {
     "name": "stdout",
     "output_type": "stream",
     "text": [
      "[2, 7, 3, 5, 4, 6]\n"
     ]
    }
   ],
   "source": [
    "my_list1 = [2,7,3,5,4,6]\n",
    "print(my_list1)"
   ]
  },
  {
   "cell_type": "code",
   "execution_count": 11,
   "id": "c8d90ded",
   "metadata": {},
   "outputs": [
    {
     "ename": "NameError",
     "evalue": "name 'numpy' is not defined",
     "output_type": "error",
     "traceback": [
      "\u001b[1;31m---------------------------------------------------------------------------\u001b[0m",
      "\u001b[1;31mNameError\u001b[0m                                 Traceback (most recent call last)",
      "Cell \u001b[1;32mIn[11], line 1\u001b[0m\n\u001b[1;32m----> 1\u001b[0m arr_1 \u001b[38;5;241m=\u001b[39m \u001b[43mnumpy\u001b[49m\u001b[38;5;241m.\u001b[39marray(my_list1, dtype \u001b[38;5;241m=\u001b[39m \u001b[38;5;28mint\u001b[39m)\n",
      "\u001b[1;31mNameError\u001b[0m: name 'numpy' is not defined"
     ]
    }
   ],
   "source": [
    "arr_1 = numpy.array(my_list1, dtype = int)"
   ]
  },
  {
   "cell_type": "code",
   "execution_count": 12,
   "id": "2aa3e4a0",
   "metadata": {},
   "outputs": [
    {
     "ename": "NameError",
     "evalue": "name 'arr_1' is not defined",
     "output_type": "error",
     "traceback": [
      "\u001b[1;31m---------------------------------------------------------------------------\u001b[0m",
      "\u001b[1;31mNameError\u001b[0m                                 Traceback (most recent call last)",
      "Cell \u001b[1;32mIn[12], line 1\u001b[0m\n\u001b[1;32m----> 1\u001b[0m \u001b[38;5;28mprint\u001b[39m(\u001b[43marr_1\u001b[49m)\n",
      "\u001b[1;31mNameError\u001b[0m: name 'arr_1' is not defined"
     ]
    }
   ],
   "source": [
    "print(arr_1)"
   ]
  },
  {
   "cell_type": "code",
   "execution_count": 14,
   "id": "49ceaab9",
   "metadata": {},
   "outputs": [
    {
     "data": {
      "text/plain": [
       "'Learn'"
      ]
     },
     "execution_count": 14,
     "metadata": {},
     "output_type": "execute_result"
    }
   ],
   "source": [
    "# Create a string called ‘string’ with the value as “Machine Learning”. Which code(s) is/are appropriate to slice the substring “Learn”?\n",
    "# a. string[slice(13,8,1)], b. string[slice(1,8,1)], c. string[8:14], d. string[slice(8,13,1)]\n",
    "\n",
    "string = \"Machine Learning\"\n",
    "string[slice(8,13,1)]"
   ]
  },
  {
   "cell_type": "code",
   "execution_count": 15,
   "id": "3a651a55",
   "metadata": {},
   "outputs": [
    {
     "name": "stdout",
     "output_type": "stream",
     "text": [
      "2\n"
     ]
    }
   ],
   "source": [
    "# Create a sequence of numbers from 10 to 25 and increment by 4. What is the index of the value 18?\n",
    "A = list(range(10,25,4))\n",
    "Indexof18 = A. index(18)\n",
    "print(Indexof18)"
   ]
  },
  {
   "cell_type": "code",
   "execution_count": 16,
   "id": "c6fdf2ed",
   "metadata": {},
   "outputs": [
    {
     "name": "stdout",
     "output_type": "stream",
     "text": [
      "625 625\n"
     ]
    }
   ],
   "source": [
    "# Q9. Which of the following is true with respect to the below codes?\n",
    "# num1 = 5**4, num2 = pow(5,4), print(num1,num2\n",
    "num1 = 5**4\n",
    "num2 = pow(5,4)\n",
    "print(num1,num2)"
   ]
  },
  {
   "cell_type": "code",
   "execution_count": 17,
   "id": "5c41b5c1",
   "metadata": {},
   "outputs": [
    {
     "ename": "ValueError",
     "evalue": "invalid literal for int() with base 10: 'string'",
     "output_type": "error",
     "traceback": [
      "\u001b[1;31m---------------------------------------------------------------------------\u001b[0m",
      "\u001b[1;31mValueError\u001b[0m                                Traceback (most recent call last)",
      "Cell \u001b[1;32mIn[17], line 2\u001b[0m\n\u001b[0;32m      1\u001b[0m x \u001b[38;5;241m=\u001b[39m \u001b[38;5;124m\"\u001b[39m\u001b[38;5;124mstring\u001b[39m\u001b[38;5;124m\"\u001b[39m\n\u001b[1;32m----> 2\u001b[0m \u001b[38;5;28;43mint\u001b[39;49m\u001b[43m(\u001b[49m\u001b[43mx\u001b[49m\u001b[43m)\u001b[49m\n",
      "\u001b[1;31mValueError\u001b[0m: invalid literal for int() with base 10: 'string'"
     ]
    }
   ],
   "source": [
    "# What type of exception will be raised for the code given below?\n",
    "x = \"string\"\n",
    "int(x)"
   ]
  },
  {
   "cell_type": "code",
   "execution_count": 18,
   "id": "fadf342a",
   "metadata": {},
   "outputs": [
    {
     "name": "stdout",
     "output_type": "stream",
     "text": [
      "{'India': 'Delhi', 'China': 'Beijing', 'Japan': 'Tokyo', 'Qatar': 'Doha', 'France': 'Paris'}\n"
     ]
    }
   ],
   "source": [
    "# Create a dictionary ‘Country’ that maps the following countries to their capitals respectively:\n",
    "# Country India China Japan Qatar France\n",
    "# State Delhi Beijing Tokyo Doha Marseilles\n",
    "# Find 2 commands to replace “Marseilles” with “Paris” is:\n",
    "Country = {'India':'Delhi','China':'Beijing','Japan':'Tokyo','Qatar':'Doha','France':'Marseilles'}\n",
    "Country['France'] = 'Paris'\n",
    "Country_update = {'France':'Paris'}\n",
    "print(Country)"
   ]
  },
  {
   "cell_type": "code",
   "execution_count": 19,
   "id": "3b217c94",
   "metadata": {},
   "outputs": [],
   "source": [
    "# Create the tuples given below, tuple_1 = (1,5,6,7,8), tuple_2 = (8,9,4), Identify which of the following code does not work on a tuple.\n",
    "tuple_1 = (1,5,6,7,8)\n",
    "tuple_2 = (8,9,4)"
   ]
  },
  {
   "cell_type": "code",
   "execution_count": 20,
   "id": "c890b7a3",
   "metadata": {},
   "outputs": [
    {
     "data": {
      "text/plain": [
       "27"
      ]
     },
     "execution_count": 20,
     "metadata": {},
     "output_type": "execute_result"
    }
   ],
   "source": [
    "sum(tuple_1)"
   ]
  },
  {
   "cell_type": "code",
   "execution_count": 21,
   "id": "d092d2d8",
   "metadata": {},
   "outputs": [
    {
     "data": {
      "text/plain": [
       "3"
      ]
     },
     "execution_count": 21,
     "metadata": {},
     "output_type": "execute_result"
    }
   ],
   "source": [
    "len(tuple_2)"
   ]
  },
  {
   "cell_type": "code",
   "execution_count": 22,
   "id": "6bbec210",
   "metadata": {},
   "outputs": [
    {
     "data": {
      "text/plain": [
       "(8, 9, 4, 1, 5, 6, 7, 8)"
      ]
     },
     "execution_count": 22,
     "metadata": {},
     "output_type": "execute_result"
    }
   ],
   "source": [
    "tuple_2 + tuple_1"
   ]
  },
  {
   "cell_type": "code",
   "execution_count": 23,
   "id": "66ef33e9",
   "metadata": {},
   "outputs": [
    {
     "ename": "TypeError",
     "evalue": "'tuple' object does not support item assignment",
     "output_type": "error",
     "traceback": [
      "\u001b[1;31m---------------------------------------------------------------------------\u001b[0m",
      "\u001b[1;31mTypeError\u001b[0m                                 Traceback (most recent call last)",
      "Cell \u001b[1;32mIn[23], line 1\u001b[0m\n\u001b[1;32m----> 1\u001b[0m tuple_1[\u001b[38;5;241m3\u001b[39m] \u001b[38;5;241m=\u001b[39m \u001b[38;5;241m45\u001b[39m\n",
      "\u001b[1;31mTypeError\u001b[0m: 'tuple' object does not support item assignment"
     ]
    }
   ],
   "source": [
    "tuple_1[3] = 45"
   ]
  },
  {
   "cell_type": "code",
   "execution_count": 24,
   "id": "a2abba3d",
   "metadata": {},
   "outputs": [
    {
     "name": "stdout",
     "output_type": "stream",
     "text": [
      "6\n"
     ]
    }
   ],
   "source": [
    "#  How many elements in the following data structure? S = {1,2,3,4,4,4,5,6}\n",
    "S = {1,2,3,4,4,4,5,6}\n",
    "count = len(S)\n",
    "print(count)"
   ]
  },
  {
   "cell_type": "code",
   "execution_count": 25,
   "id": "8634bb38",
   "metadata": {},
   "outputs": [],
   "source": [
    "# Write a function which finds all pythagorean triplets of triangles whose sides are no greater than a natural number Nimport math\n",
    "def pythagorean_triplets(n):\n",
    "    for a in range(1, n+1):\n",
    "        for b in range(a, n+1):\n",
    "            c = math.sqrt(a*a + b*b)\n",
    "            if c.is_integer() and c <= n:\n",
    "                print(f\"{a}, {b}, {int(c)}\")"
   ]
  },
  {
   "cell_type": "code",
   "execution_count": 26,
   "id": "2c8e0a6b",
   "metadata": {},
   "outputs": [
    {
     "name": "stdout",
     "output_type": "stream",
     "text": [
      "3, 4, 5\n"
     ]
    }
   ],
   "source": [
    "pythagorean_triplets(5)"
   ]
  },
  {
   "cell_type": "code",
   "execution_count": null,
   "id": "4fa0af92",
   "metadata": {},
   "outputs": [],
   "source": []
  }
 ],
 "metadata": {
  "kernelspec": {
   "display_name": "Python 3 (ipykernel)",
   "language": "python",
   "name": "python3"
  },
  "language_info": {
   "codemirror_mode": {
    "name": "ipython",
    "version": 3
   },
   "file_extension": ".py",
   "mimetype": "text/x-python",
   "name": "python",
   "nbconvert_exporter": "python",
   "pygments_lexer": "ipython3",
   "version": "3.10.9"
  }
 },
 "nbformat": 4,
 "nbformat_minor": 5
}
